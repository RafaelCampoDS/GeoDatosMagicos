{
 "cells": [
  {
   "cell_type": "code",
   "execution_count": 14,
   "metadata": {},
   "outputs": [
    {
     "data": {
      "text/html": [
       "<div>\n",
       "<style scoped>\n",
       "    .dataframe tbody tr th:only-of-type {\n",
       "        vertical-align: middle;\n",
       "    }\n",
       "\n",
       "    .dataframe tbody tr th {\n",
       "        vertical-align: top;\n",
       "    }\n",
       "\n",
       "    .dataframe thead th {\n",
       "        text-align: right;\n",
       "    }\n",
       "</style>\n",
       "<table border=\"1\" class=\"dataframe\">\n",
       "  <thead>\n",
       "    <tr style=\"text-align: right;\">\n",
       "      <th></th>\n",
       "      <th>user_id</th>\n",
       "      <th>longitude</th>\n",
       "      <th>latitude</th>\n",
       "      <th>date_taken</th>\n",
       "      <th>photo/video_page_url</th>\n",
       "      <th>x</th>\n",
       "      <th>y</th>\n",
       "      <th>geometry</th>\n",
       "    </tr>\n",
       "  </thead>\n",
       "  <tbody>\n",
       "    <tr>\n",
       "      <th>0</th>\n",
       "      <td>10727420@N00</td>\n",
       "      <td>139.700499</td>\n",
       "      <td>35.674000</td>\n",
       "      <td>2010-04-09 17:26:25.0</td>\n",
       "      <td>http://www.flickr.com/photos/10727420@N00/4545...</td>\n",
       "      <td>1.555139e+07</td>\n",
       "      <td>4.255856e+06</td>\n",
       "      <td>POINT (139.70050 35.67400)</td>\n",
       "    </tr>\n",
       "    <tr>\n",
       "      <th>1</th>\n",
       "      <td>8819274@N04</td>\n",
       "      <td>139.766521</td>\n",
       "      <td>35.709095</td>\n",
       "      <td>2007-02-10 16:08:40.0</td>\n",
       "      <td>http://www.flickr.com/photos/8819274@N04/26503...</td>\n",
       "      <td>1.555874e+07</td>\n",
       "      <td>4.260667e+06</td>\n",
       "      <td>POINT (139.76652 35.70909)</td>\n",
       "    </tr>\n",
       "  </tbody>\n",
       "</table>\n",
       "</div>"
      ],
      "text/plain": [
       "        user_id   longitude   latitude             date_taken  \\\n",
       "0  10727420@N00  139.700499  35.674000  2010-04-09 17:26:25.0   \n",
       "1   8819274@N04  139.766521  35.709095  2007-02-10 16:08:40.0   \n",
       "\n",
       "                                photo/video_page_url             x  \\\n",
       "0  http://www.flickr.com/photos/10727420@N00/4545...  1.555139e+07   \n",
       "1  http://www.flickr.com/photos/8819274@N04/26503...  1.555874e+07   \n",
       "\n",
       "              y                    geometry  \n",
       "0  4.255856e+06  POINT (139.70050 35.67400)  \n",
       "1  4.260667e+06  POINT (139.76652 35.70909)  "
      ]
     },
     "execution_count": 14,
     "metadata": {},
     "output_type": "execute_result"
    }
   ],
   "source": [
    "import pandas as pd \n",
    "import geopandas as gpd \n",
    "\n",
    "\n",
    "db = pd.read_csv(\"tokyo_clean.csv\")\n",
    "\n",
    "gdf = gpd.GeoDataFrame(db, geometry=gpd.points_from_xy(db.longitude, db.latitude))\n",
    "\n",
    "db.head(2)"
   ]
  },
  {
   "cell_type": "code",
   "execution_count": 21,
   "metadata": {},
   "outputs": [
    {
     "data": {
      "text/plain": [
       "<AxesSubplot:>"
      ]
     },
     "execution_count": 21,
     "metadata": {},
     "output_type": "execute_result"
    },
    {
     "data": {
      "image/png": "[encoded data removed]",
      "text/plain": [
       "<Figure size 432x288 with 1 Axes>"
      ]
     },
     "metadata": {
      "needs_background": "light"
     },
     "output_type": "display_data"
    }
   ],
   "source": [
    "gdf.plot()"
   ]
  },
  {
   "cell_type": "code",
   "execution_count": 16,
   "metadata": {},
   "outputs": [],
   "source": [
    "## Leo los  archivo de JSON desde internet vamos a ver si sirve jajja\n",
    "\n",
    "import urllib.request, json \n",
    "\n",
    "\n",
    "with urllib.request.urlopen('https://raw.githubusercontent.com/niiyz/JapanCityGeoJson/master/geojson/13/13101.json') as url:\n",
    "  tokyo_json = json.loads(url.read().decode())\n",
    "\n",
    "#Distrito de chiyoda\n",
    "tokyo_geo_01= gpd.GeoDataFrame.from_features(tokyo_json[\"features\"])\n",
    "tokyo_geo_01.crs = \"epsg:4326\"\n",
    "\n",
    "#Guardar como un JSON \n",
    "\n",
    "\n"
   ]
  },
  {
   "cell_type": "code",
   "execution_count": 20,
   "metadata": {},
   "outputs": [
    {
     "data": {
      "text/html": [
       "<div>\n",
       "<style scoped>\n",
       "    .dataframe tbody tr th:only-of-type {\n",
       "        vertical-align: middle;\n",
       "    }\n",
       "\n",
       "    .dataframe tbody tr th {\n",
       "        vertical-align: top;\n",
       "    }\n",
       "\n",
       "    .dataframe thead th {\n",
       "        text-align: right;\n",
       "    }\n",
       "</style>\n",
       "<table border=\"1\" class=\"dataframe\">\n",
       "  <thead>\n",
       "    <tr style=\"text-align: right;\">\n",
       "      <th></th>\n",
       "      <th>geometry</th>\n",
       "      <th>N03_001</th>\n",
       "      <th>N03_002</th>\n",
       "      <th>N03_003</th>\n",
       "      <th>N03_004</th>\n",
       "      <th>N03_007</th>\n",
       "      <th>nombre</th>\n",
       "      <th>id</th>\n",
       "    </tr>\n",
       "  </thead>\n",
       "  <tbody>\n",
       "    <tr>\n",
       "      <th>0</th>\n",
       "      <td>MULTIPOLYGON (((139.73150 35.68150, 139.73120 ...</td>\n",
       "      <td>東京都</td>\n",
       "      <td></td>\n",
       "      <td></td>\n",
       "      <td>千代田区</td>\n",
       "      <td>13101</td>\n",
       "      <td>Chiyoda</td>\n",
       "      <td>13101</td>\n",
       "    </tr>\n",
       "  </tbody>\n",
       "</table>\n",
       "</div>"
      ],
      "text/plain": [
       "                                            geometry N03_001 N03_002 N03_003  \\\n",
       "0  MULTIPOLYGON (((139.73150 35.68150, 139.73120 ...     東京都                   \n",
       "\n",
       "  N03_004 N03_007   nombre     id  \n",
       "0    千代田区   13101  Chiyoda  13101  "
      ]
     },
     "execution_count": 20,
     "metadata": {},
     "output_type": "execute_result"
    }
   ],
   "source": [
    "\n",
    "tokyo_geo_01['nombre']='Chiyoda'\n",
    "tokyo_geo_01['id']=tokyo_geo_01['N03_007']\n",
    "tokyo_geo_01.head()"
   ]
  },
  {
   "cell_type": "code",
   "execution_count": 17,
   "metadata": {},
   "outputs": [
    {
     "data": {
      "text/plain": [
       "<AxesSubplot:>"
      ]
     },
     "execution_count": 17,
     "metadata": {},
     "output_type": "execute_result"
    },
    {
     "data": {
      "image/png": "[encoded data removed]",
      "text/plain": [
       "<Figure size 432x288 with 1 Axes>"
      ]
     },
     "metadata": {
      "needs_background": "light"
     },
     "output_type": "display_data"
    }
   ],
   "source": [
    "tokyo_geo_01.plot()"
   ]
  }
 ],
 "metadata": {
  "interpreter": {
   "hash": "cb4cb5b7dbf894a79b9412da43658a1f87438c6c493379b8fb8d12c53e363286"
  },
  "kernelspec": {
   "display_name": "Python 3.9.5 64-bit (conda)",
   "name": "python3"
  },
  "language_info": {
   "codemirror_mode": {
    "name": "ipython",
    "version": 3
   },
   "file_extension": ".py",
   "mimetype": "text/x-python",
   "name": "python",
   "nbconvert_exporter": "python",
   "pygments_lexer": "ipython3",
   "version": "3.9.5"
  },
  "orig_nbformat": 4
 },
 "nbformat": 4,
 "nbformat_minor": 2
}
